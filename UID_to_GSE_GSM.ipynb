{
 "cells": [
  {
   "cell_type": "code",
   "execution_count": 3,
   "id": "3f5e5e5d-2ea1-4916-a78a-d9b2980f7d4c",
   "metadata": {},
   "outputs": [],
   "source": [
    "import time\n",
    "from Bio import Entrez\n",
    "import pandas as pd\n",
    "from tqdm import tqdm"
   ]
  },
  {
   "cell_type": "code",
   "execution_count": 10,
   "id": "06e97501-574d-406a-a241-80793d9e3f5d",
   "metadata": {},
   "outputs": [
    {
     "data": {
      "text/plain": [
       "[{'Item': [], 'Id': '308204622', 'Accession': 'GSM8204622', 'GDS': '', 'title': 'SS2_Exp1_WT_Bystander_I20_B000997_GRP1P1NEG_S196', 'summary': 'Lung', 'GPL': '24247', 'GSE': '263891;263892', 'taxon': 'Mus musculus', 'entryType': 'GSM', 'gdsType': '', 'ptechType': '', 'valType': '', 'SSInfo': '', 'subsetInfo': '', 'PDAT': '2024/04/20', 'suppFile': '', 'Samples': [], 'Relations': [], 'ExtRelations': [{'RelationType': 'SRA', 'TargetObject': 'SRX24142450', 'TargetFTPLink': 'ftp://ftp-trace.ncbi.nlm.nih.gov/sra/sra-instant/reads/ByExp/sra/SRX/SRX241/SRX24142450/'}], 'n_samples': IntegerElement(0, attributes={}), 'SeriesTitle': '', 'PlatformTitle': '', 'PlatformTaxa': '', 'SamplesTaxa': '', 'PubMedIds': [], 'Projects': [], 'FTPLink': '', 'GEO2R': ''},\n",
       " {'Item': [], 'Id': '308204621', 'Accession': 'GSM8204621', 'GDS': '', 'title': 'SS2_Exp1_WT_Bystander_D1_B000996_GRP1P3NEG_S41', 'summary': 'Lung', 'GPL': '24247', 'GSE': '263891;263892', 'taxon': 'Mus musculus', 'entryType': 'GSM', 'gdsType': '', 'ptechType': '', 'valType': '', 'SSInfo': '', 'subsetInfo': '', 'PDAT': '2024/04/20', 'suppFile': '', 'Samples': [], 'Relations': [], 'ExtRelations': [{'RelationType': 'SRA', 'TargetObject': 'SRX24142316', 'TargetFTPLink': 'ftp://ftp-trace.ncbi.nlm.nih.gov/sra/sra-instant/reads/ByExp/sra/SRX/SRX241/SRX24142316/'}], 'n_samples': IntegerElement(0, attributes={}), 'SeriesTitle': '', 'PlatformTitle': '', 'PlatformTaxa': '', 'SamplesTaxa': '', 'PubMedIds': [], 'Projects': [], 'FTPLink': '', 'GEO2R': ''},\n",
       " {'Item': [], 'Id': '308204620', 'Accession': 'GSM8204620', 'GDS': '', 'title': 'SS2_Exp1_WT_Bystander_F13_B002040_GRP3P1NEG_S69', 'summary': 'Lung', 'GPL': '24247', 'GSE': '263891;263892', 'taxon': 'Mus musculus', 'entryType': 'GSM', 'gdsType': '', 'ptechType': '', 'valType': '', 'SSInfo': '', 'subsetInfo': '', 'PDAT': '2024/04/20', 'suppFile': '', 'Samples': [], 'Relations': [], 'ExtRelations': [{'RelationType': 'SRA', 'TargetObject': 'SRX24142346', 'TargetFTPLink': 'ftp://ftp-trace.ncbi.nlm.nih.gov/sra/sra-instant/reads/ByExp/sra/SRX/SRX241/SRX24142346/'}], 'n_samples': IntegerElement(0, attributes={}), 'SeriesTitle': '', 'PlatformTitle': '', 'PlatformTaxa': '', 'SamplesTaxa': '', 'PubMedIds': [], 'Projects': [], 'FTPLink': '', 'GEO2R': ''},\n",
       " {'Item': [], 'Id': '308204619', 'Accession': 'GSM8204619', 'GDS': '', 'title': 'SS2_Exp1_WT_Bystander_G6_B002041_GRP3P2NEG_S70', 'summary': 'Lung', 'GPL': '24247', 'GSE': '263891;263892', 'taxon': 'Mus musculus', 'entryType': 'GSM', 'gdsType': '', 'ptechType': '', 'valType': '', 'SSInfo': '', 'subsetInfo': '', 'PDAT': '2024/04/20', 'suppFile': '', 'Samples': [], 'Relations': [], 'ExtRelations': [{'RelationType': 'SRA', 'TargetObject': 'SRX24142403', 'TargetFTPLink': 'ftp://ftp-trace.ncbi.nlm.nih.gov/sra/sra-instant/reads/ByExp/sra/SRX/SRX241/SRX24142403/'}], 'n_samples': IntegerElement(0, attributes={}), 'SeriesTitle': '', 'PlatformTitle': '', 'PlatformTaxa': '', 'SamplesTaxa': '', 'PubMedIds': [], 'Projects': [], 'FTPLink': '', 'GEO2R': ''},\n",
       " {'Item': [], 'Id': '308204618', 'Accession': 'GSM8204618', 'GDS': '', 'title': 'SS2_Exp1_WT_Bystander_G7_B002041_GRP3P2NEG_S71', 'summary': 'Lung', 'GPL': '24247', 'GSE': '263891;263892', 'taxon': 'Mus musculus', 'entryType': 'GSM', 'gdsType': '', 'ptechType': '', 'valType': '', 'SSInfo': '', 'subsetInfo': '', 'PDAT': '2024/04/20', 'suppFile': '', 'Samples': [], 'Relations': [], 'ExtRelations': [{'RelationType': 'SRA', 'TargetObject': 'SRX24142409', 'TargetFTPLink': 'ftp://ftp-trace.ncbi.nlm.nih.gov/sra/sra-instant/reads/ByExp/sra/SRX/SRX241/SRX24142409/'}], 'n_samples': IntegerElement(0, attributes={}), 'SeriesTitle': '', 'PlatformTitle': '', 'PlatformTaxa': '', 'SamplesTaxa': '', 'PubMedIds': [], 'Projects': [], 'FTPLink': '', 'GEO2R': ''}]"
      ]
     },
     "execution_count": 10,
     "metadata": {},
     "output_type": "execute_result"
    }
   ],
   "source": [
    "summary[:5]"
   ]
  },
  {
   "cell_type": "code",
   "execution_count": 9,
   "id": "cca03777-56ad-426f-aae8-7b77ea496113",
   "metadata": {},
   "outputs": [
    {
     "name": "stderr",
     "output_type": "stream",
     "text": [
      "Fetching GSEs:  16%|███▌                  | 200/1253 [05:00<26:24,  1.50s/batch]\n",
      "\n",
      "KeyboardInterrupt\n",
      "\n"
     ]
    }
   ],
   "source": [
    "Entrez.email = \"salimovdan1988@gmail.com\"  \n",
    "\n",
    "with open(\"UID_list.txt\") as f:\n",
    "    uid_list = [line.strip() for line in f if line.strip().isdigit()]\n",
    "\n",
    "def chunks(lst, n):\n",
    "    for i in range(0, len(lst), n):\n",
    "        yield lst[i:i + n]\n",
    "\n",
    "exp_list = []\n",
    "\n",
    "for batch in tqdm(list(chunks(uid_list, 200)), desc=\"Fetching GSEs\", unit=\"batch\"):\n",
    "    try:\n",
    "        handle = Entrez.esummary(db=\"gds\", id=\",\".join(batch))\n",
    "        summary = Entrez.read(handle)\n",
    "        for doc in summary:\n",
    "            exp_list.append({'GSM_id': doc[\"Accession\"], 'GSE_id': doc['GSE']})\n",
    "    except Exception as e:\n",
    "        print(f\"[X] Ошибка в батче: {e}\")\n",
    "    time.sleep(0.2) "
   ]
  },
  {
   "cell_type": "code",
   "execution_count": null,
   "id": "5fd169bd-0853-4243-aa19-492441bc715b",
   "metadata": {},
   "outputs": [],
   "source": [
    "# === Шаг 4: GSE → GSM ===\n",
    "print(\"🔄 Поиск GSM по каждому GSE...\")\n",
    "results = []\n",
    "\n",
    "for gse in tqdm(gse_list, desc=\"Processing GSEs\", unit=\"GSE\"):\n",
    "    try:\n",
    "        # Получаем UID GSM, связанных с этим GSE\n",
    "        link_handle = Entrez.elink(dbfrom=\"gds\", db=\"gds\", id=gse, linkname=\"gds_gds_gsm\")\n",
    "        link_result = Entrez.read(link_handle)\n",
    "        linksets = link_result[0][\"LinkSetDb\"]\n",
    "        if not linksets:\n",
    "            continue\n",
    "        gsm_uids = [link[\"Id\"] for link in linksets[0][\"Link\"]]\n",
    "        \n",
    "        # Преобразуем UID GSM → Accession\n",
    "        for gsm_batch in chunks(gsm_uids, 200):\n",
    "            gsm_handle = Entrez.esummary(db=\"gds\", id=\",\".join(gsm_batch))\n",
    "            gsm_summary = Entrez.read(gsm_handle)\n",
    "            for gsm_doc in gsm_summary[\"DocumentSummarySet\"][\"DocumentSummary\"]:\n",
    "                results.append({\"GSE\": gse, \"GSM\": gsm_doc[\"Accession\"]})\n",
    "            time.sleep(0.4)\n",
    "    except Exception as e:\n",
    "        print(f\"[X] Ошибка при обработке {gse}: {e}\")\n",
    "    time.sleep(0.4)\n",
    "\n",
    "# === Шаг 5: Сохранение в CSV ===\n",
    "df = pd.DataFrame(results)\n",
    "df.to_csv(\"gse_gsm_table.csv\", index=False)\n",
    "print(\"✅ Сохранено в gse_gsm_table.csv\")"
   ]
  }
 ],
 "metadata": {
  "kernelspec": {
   "display_name": "Python 3 (ipykernel)",
   "language": "python",
   "name": "python3"
  },
  "language_info": {
   "codemirror_mode": {
    "name": "ipython",
    "version": 3
   },
   "file_extension": ".py",
   "mimetype": "text/x-python",
   "name": "python",
   "nbconvert_exporter": "python",
   "pygments_lexer": "ipython3",
   "version": "3.13.5"
  }
 },
 "nbformat": 4,
 "nbformat_minor": 5
}
