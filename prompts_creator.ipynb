{
 "cells": [
  {
   "cell_type": "code",
   "execution_count": 1,
   "id": "f43fbe99-d7ac-4cea-98f8-3fc4ee96ae6c",
   "metadata": {},
   "outputs": [],
   "source": [
    "import os\n",
    "import json\n",
    "from tqdm import tqdm"
   ]
  },
  {
   "cell_type": "code",
   "execution_count": 2,
   "id": "e87d20e0-2e9b-460c-8c77-b1f7466d2335",
   "metadata": {},
   "outputs": [],
   "source": [
    "INPUT_FILE = \"metadata_full.json\"\n",
    "OUTPUT_DIR = \"prompts_batches\"\n",
    "CHUNK_SIZE = 20000\n",
    "MODEL = \"gpt-4\"\n",
    "TEMPERATURE = 0.3"
   ]
  },
  {
   "cell_type": "code",
   "execution_count": null,
   "id": "24dcdde0-8ae2-4337-aa10-62319370f67d",
   "metadata": {},
   "outputs": [],
   "source": [
    "os.makedirs(OUTPUT_DIR, exist_ok=True)\n",
    "\n",
    "with open(INPUT_FILE, \"r\") as f:\n",
    "    records = json.load(f)\n",
    "\n",
    "def build_prompt(record):\n",
    "    return f\"\"\"Ты биоинформатик. Проанализируй метаданные GEO-эксперимента ниже и верни строго JSON со следующими полями:\n",
    "\n",
    "- GSM_id\n",
    "- GSE_id\n",
    "- sc_RNA_seq: True или False — является ли эксперимент single-cell RNA-seq\n",
    "- taxon: вид животного (например, \"Mus musculus\", \"Rattus norvegicus\")\n",
    "- strain: линия или штамм животного (например, \"C57BL/6J\", \"Wistar\", \"Sprague-Dawley\")\n",
    "- age_weeks: возраст в неделях (целое или дробное число, если можно извлечь)\n",
    "- age_bin: одна из категорий возраста: \"<4w\", \"4–8w\", \"8–20w\", \">20w\", либо \"unknown\"\n",
    "- disease_status: \"healthy\", \"diseased\" или \"unknown\"\n",
    "- disease_name: если animal diseased — название заболевания (например, \"diabetes\", \"cancer\", \"asthma\"); иначе \"none\"\n",
    "- tissue_or_cell_type: тип ткани или клеточной линии (например, \"liver\", \"fibroblast\", \"bone marrow\")\n",
    "\n",
    "\n",
    "Если в карточке нет точной информации, логично догадывайся из текста. \n",
    "\n",
    "=== GEO METADATA START ===\n",
    "{record[\"metadata_text\"]}\n",
    "=== GEO METADATA END ===\n",
    "\"\"\"\n",
    "\n",
    "# === Сохраняем чанки JSONL ===\n",
    "num_chunks = (len(records) + CHUNK_SIZE - 1) // CHUNK_SIZE\n",
    "\n",
    "for i in tqdm(range(num_chunks), desc=\"Сохранение чанков\"):\n",
    "    chunk_records = records[i * CHUNK_SIZE : (i + 1) * CHUNK_SIZE]\n",
    "    output_path = os.path.join(OUTPUT_DIR, f\"batch_chunk_{i+1}.jsonl\")\n",
    "    with open(output_path, \"w\", encoding=\"utf-8\") as out:\n",
    "        for record in chunk_records:\n",
    "            prompt = build_prompt(record)\n",
    "            jsonl_obj = {\n",
    "                \"custom_id\": record[\"GSM_id\"],\n",
    "                \"method\": \"POST\",\n",
    "                \"url\": \"/v1/chat/completions\",\n",
    "                \"body\": {\n",
    "                    \"model\": MODEL,\n",
    "                    \"messages\": [{\"role\": \"user\", \"content\": prompt}],\n",
    "                    \"temperature\": TEMPERATURE,\n",
    "                    \"response_format\": \"json\"\n",
    "                }\n",
    "            }\n",
    "            out.write(json.dumps(jsonl_obj, ensure_ascii=False) + \"\\n\")\n",
    "\n",
    "print(f\"✅ Готово: сохранено {num_chunks} чанков в папке {OUTPUT_DIR}\")"
   ]
  }
 ],
 "metadata": {
  "kernelspec": {
   "display_name": "Python 3 (ipykernel)",
   "language": "python",
   "name": "python3"
  },
  "language_info": {
   "codemirror_mode": {
    "name": "ipython",
    "version": 3
   },
   "file_extension": ".py",
   "mimetype": "text/x-python",
   "name": "python",
   "nbconvert_exporter": "python",
   "pygments_lexer": "ipython3",
   "version": "3.13.5"
  }
 },
 "nbformat": 4,
 "nbformat_minor": 5
}
