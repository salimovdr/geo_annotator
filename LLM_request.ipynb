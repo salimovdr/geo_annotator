{
 "cells": [
  {
   "cell_type": "code",
   "execution_count": 1,
   "id": "a0bd882e-c3cd-415d-a8a8-9f6da14e1204",
   "metadata": {},
   "outputs": [],
   "source": [
    "import asyncio\n",
    "import time\n",
    "import json\n",
    "import argparse\n",
    "from pathlib import Path\n",
    "from openai import AsyncOpenAI"
   ]
  },
  {
   "cell_type": "code",
   "execution_count": 2,
   "id": "c306305c-cbbc-439c-a286-37f1ca176de6",
   "metadata": {},
   "outputs": [
    {
     "ename": "RuntimeError",
     "evalue": "asyncio.run() cannot be called from a running event loop",
     "output_type": "error",
     "traceback": [
      "\u001b[31m---------------------------------------------------------------------------\u001b[39m",
      "\u001b[31mRuntimeError\u001b[39m                              Traceback (most recent call last)",
      "\u001b[36mCell\u001b[39m\u001b[36m \u001b[39m\u001b[32mIn[2]\u001b[39m\u001b[32m, line 72\u001b[39m\n\u001b[32m     65\u001b[39m \u001b[38;5;66;03m# === Точка входа ===\u001b[39;00m\n\u001b[32m     66\u001b[39m \u001b[38;5;28;01mif\u001b[39;00m \u001b[34m__name__\u001b[39m == \u001b[33m\"\u001b[39m\u001b[33m__main__\u001b[39m\u001b[33m\"\u001b[39m:\n\u001b[32m     67\u001b[39m     \u001b[38;5;66;03m#parser = argparse.ArgumentParser(description=\"Run batch LLM requests.\")\u001b[39;00m\n\u001b[32m     68\u001b[39m     \u001b[38;5;66;03m#parser.add_argument(\"input_file\", help=\"Path to .jsonl file with prompts\")\u001b[39;00m\n\u001b[32m     69\u001b[39m     \u001b[38;5;66;03m#args = parser.parse_args()\u001b[39;00m\n\u001b[32m     70\u001b[39m \n\u001b[32m     71\u001b[39m     \u001b[38;5;66;03m#asyncio.run(main(args.input_file))\u001b[39;00m\n\u001b[32m---> \u001b[39m\u001b[32m72\u001b[39m     \u001b[43masyncio\u001b[49m\u001b[43m.\u001b[49m\u001b[43mrun\u001b[49m\u001b[43m(\u001b[49m\u001b[43mmain\u001b[49m\u001b[43m(\u001b[49m\u001b[33;43m'\u001b[39;49m\u001b[33;43mbatch_chunks_miniml/attempt.jsonl\u001b[39;49m\u001b[33;43m'\u001b[39;49m\u001b[43m)\u001b[49m\u001b[43m)\u001b[49m\n",
      "\u001b[36mFile \u001b[39m\u001b[32m~/miniconda3/envs/prog/lib/python3.13/asyncio/runners.py:191\u001b[39m, in \u001b[36mrun\u001b[39m\u001b[34m(main, debug, loop_factory)\u001b[39m\n\u001b[32m    161\u001b[39m \u001b[38;5;250m\u001b[39m\u001b[33;03m\"\"\"Execute the coroutine and return the result.\u001b[39;00m\n\u001b[32m    162\u001b[39m \n\u001b[32m    163\u001b[39m \u001b[33;03mThis function runs the passed coroutine, taking care of\u001b[39;00m\n\u001b[32m   (...)\u001b[39m\u001b[32m    187\u001b[39m \u001b[33;03m    asyncio.run(main())\u001b[39;00m\n\u001b[32m    188\u001b[39m \u001b[33;03m\"\"\"\u001b[39;00m\n\u001b[32m    189\u001b[39m \u001b[38;5;28;01mif\u001b[39;00m events._get_running_loop() \u001b[38;5;129;01mis\u001b[39;00m \u001b[38;5;129;01mnot\u001b[39;00m \u001b[38;5;28;01mNone\u001b[39;00m:\n\u001b[32m    190\u001b[39m     \u001b[38;5;66;03m# fail fast with short traceback\u001b[39;00m\n\u001b[32m--> \u001b[39m\u001b[32m191\u001b[39m     \u001b[38;5;28;01mraise\u001b[39;00m \u001b[38;5;167;01mRuntimeError\u001b[39;00m(\n\u001b[32m    192\u001b[39m         \u001b[33m\"\u001b[39m\u001b[33masyncio.run() cannot be called from a running event loop\u001b[39m\u001b[33m\"\u001b[39m)\n\u001b[32m    194\u001b[39m \u001b[38;5;28;01mwith\u001b[39;00m Runner(debug=debug, loop_factory=loop_factory) \u001b[38;5;28;01mas\u001b[39;00m runner:\n\u001b[32m    195\u001b[39m     \u001b[38;5;28;01mreturn\u001b[39;00m runner.run(main)\n",
      "\u001b[31mRuntimeError\u001b[39m: asyncio.run() cannot be called from a running event loop"
     ]
    }
   ],
   "source": [
    "# === Настройки ===\n",
    "BASE_URL = \"http://80.209.242.40:8000/v1\"\n",
    "API_KEY = \"dummy-key\"\n",
    "MODEL_NAME = \"llama-3.3-70b-instruct\"\n",
    "MAX_CONCURRENT_REQUESTS = 50  # Примерно 3000 в минуту\n",
    "REQUESTS_PER_MINUTE = 3000\n",
    "DELAY_BETWEEN_BATCHES = 60 / (REQUESTS_PER_MINUTE / MAX_CONCURRENT_REQUESTS)\n",
    "\n",
    "# === Отправка одного запроса ===\n",
    "async def send_request(client, content, semaphore, idx):\n",
    "    async with semaphore:\n",
    "        await asyncio.sleep(DELAY_BETWEEN_BATCHES)  # троттлинг\n",
    "\n",
    "        try:\n",
    "            start_time = time.time()\n",
    "            response = await client.chat.completions.create(\n",
    "                model=MODEL_NAME,\n",
    "                messages=[{\"role\": \"user\", \"content\": content}],\n",
    "                max_tokens=256,\n",
    "                temperature=0.5,\n",
    "            )\n",
    "            latency = time.time() - start_time\n",
    "            return {\n",
    "                \"id\": idx,\n",
    "                \"content\": content,\n",
    "                \"response\": response.choices[0].message.content,\n",
    "                \"latency\": latency,\n",
    "            }\n",
    "        except Exception as e:\n",
    "            return {\n",
    "                \"id\": idx,\n",
    "                \"content\": content,\n",
    "                \"response\": None,\n",
    "                \"error\": str(e),\n",
    "            }\n",
    "\n",
    "# === Главная функция ===\n",
    "async def main(input_path):\n",
    "    input_path = Path(input_path)\n",
    "    output_path = input_path.with_name(input_path.stem + \"_responses.jsonl\")\n",
    "\n",
    "    # Загружаем все строки из JSONL\n",
    "    with open(input_path, 'r', encoding='utf-8') as f:\n",
    "        lines = [json.loads(line) for line in f]\n",
    "\n",
    "    prompts = [line[\"prompt\"] if \"prompt\" in line else line[\"content\"] for line in lines]\n",
    "\n",
    "    semaphore = asyncio.Semaphore(MAX_CONCURRENT_REQUESTS)\n",
    "    client = AsyncOpenAI(base_url=BASE_URL, api_key=API_KEY)\n",
    "\n",
    "    tasks = [\n",
    "        send_request(client, prompt, semaphore, idx)\n",
    "        for idx, prompt in enumerate(prompts)\n",
    "    ]\n",
    "\n",
    "    # Обрабатываем ответы с сохранением по ходу\n",
    "    with open(output_path, 'w', encoding='utf-8') as out_file:\n",
    "        for future in asyncio.as_completed(tasks):\n",
    "            result = await future\n",
    "            out_file.write(json.dumps(result, ensure_ascii=False) + '\\n')\n",
    "            print(f\"Processed #{result['id']}: {result['response'][:80] if result['response'] else 'ERROR'}\")\n",
    "\n",
    "    print(f\"\\nAll responses saved to: {output_path}\")\n",
    "\n",
    "# === Точка входа ===\n",
    "if __name__ == \"__main__\":\n",
    "    #parser = argparse.ArgumentParser(description=\"Run batch LLM requests.\")\n",
    "    #parser.add_argument(\"input_file\", help=\"Path to .jsonl file with prompts\")\n",
    "    #args = parser.parse_args()\n",
    "\n",
    "    #asyncio.run(main(args.input_file))\n",
    "    asyncio.run(main('batch_chunks_miniml/attempt.jsonl'))"
   ]
  },
  {
   "cell_type": "code",
   "execution_count": null,
   "id": "906adf28-bef1-415e-94ce-60be81eb1eb0",
   "metadata": {},
   "outputs": [],
   "source": []
  }
 ],
 "metadata": {
  "kernelspec": {
   "display_name": "Python 3 (ipykernel)",
   "language": "python",
   "name": "python3"
  },
  "language_info": {
   "codemirror_mode": {
    "name": "ipython",
    "version": 3
   },
   "file_extension": ".py",
   "mimetype": "text/x-python",
   "name": "python",
   "nbconvert_exporter": "python",
   "pygments_lexer": "ipython3",
   "version": "3.13.5"
  }
 },
 "nbformat": 4,
 "nbformat_minor": 5
}
